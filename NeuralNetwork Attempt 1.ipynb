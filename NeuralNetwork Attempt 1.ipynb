{
  "nbformat": 4,
  "nbformat_minor": 0,
  "metadata": {
    "colab": {
      "name": "GameNNBuild.ipynb",
      "provenance": []
    },
    "kernelspec": {
      "name": "python3",
      "display_name": "Python 3"
    }
  },
  "cells": [
    {
      "cell_type": "code",
      "metadata": {
        "id": "rQSND4pLnni4"
      },
      "source": [
        "import gym\r\n",
        "import numpy as np\r\n",
        "#from gym import spaces\r\n",
        "#from gym.utils import seeding\r\n",
        "\r\n",
        "\r\n",
        "class DiceGame(gym.Env):\r\n",
        "\r\n",
        "    def __init__(self):\r\n",
        "        self.state = np.zeros((7,3))\r\n",
        "        self.top = [1000,6,6,6,6,6,6] #Arb top for Col 0, High so it doesn't Accidentally Trigger Col Done Count\r\n",
        "        self.dice = (np.random.randint(1, 7),np.random.randint(1, 7),np.random.randint(1, 7))\r\n",
        "        self.state[0] = self.dice\r\n",
        "        self.blackDots = 2\r\n",
        "        self.turn = 0 #Total Turns, or how many times opponent had a chance to counter attack\r\n",
        "        self.round = 0 #Rounds within a current turn, used to track reward\r\n",
        "        self.reward = 0\r\n",
        "        self.bust = False\r\n",
        "        self.done = False\r\n",
        "        \r\n",
        "    def step(self, action):\r\n",
        "        if self.done:\r\n",
        "            return self.state, self.dice, self.blackDots, self.turn, 0, self.done\r\n",
        "        else:\r\n",
        "            #assert self.action_space.contains(action)\r\n",
        "            assert action in [0,1,2,3,4,5]\r\n",
        "            # 0 is dice 1 and stay\r\n",
        "            # 1 is dice 1 and go\r\n",
        "            # 2 is dice 2 and stay\r\n",
        "            # 3 is dice 2 and go\r\n",
        "            # 4 is dice 3 and stay\r\n",
        "            # 5 is dice 3 and go\r\n",
        "            dicePick = self.dice[action//2] #Numerical Value of Dice Picked\r\n",
        "            stay = (action%2 == 0) #Stay or push value\r\n",
        "\r\n",
        "            #Code for checking if move is legal because top has been reached previously\r\n",
        "            #in either Black or Colors\r\n",
        "            if any (X >= self.top[dicePick] for X in env.state[dicePick]):\r\n",
        "                self.bust=True\r\n",
        "\r\n",
        "            #Code for checking if move is illegal due to out of black dots and attempting to place another\r\n",
        "            if env.state[dicePick][2]==0 and self.blackDots<=0:\r\n",
        "                self.bust=True\r\n",
        "\r\n",
        "            #Bust, Reset all Black Dots to 0 and increase Turn. Reset and set what is needed for next round\r\n",
        "            if self.bust:\r\n",
        "                for i in range(len(env.state)):\r\n",
        "                    env.state[i,2]=0\r\n",
        "                self.turn+=1\r\n",
        "                self.blackDots=2\r\n",
        "                self.bust=False\r\n",
        "                self.reward=(-1)*self.round\r\n",
        "                self.round=0\r\n",
        "                self.dice = (np.random.randint(1, 7),np.random.randint(1, 7),np.random.randint(1, 7))\r\n",
        "                self.state[0] = self.dice\r\n",
        "\r\n",
        "            #Increase picked value. Decrease BlackDot count if needed\r\n",
        "            else:\r\n",
        "                #If new blackdot Placement, initialize blackdot\r\n",
        "                if self.state[dicePick][2]==0:\r\n",
        "                    self.state[dicePick][2]=self.state[dicePick][0]\r\n",
        "                    self.blackDots-=1            \r\n",
        "                self.state[dicePick][2]+=1\r\n",
        "                self.round+=1\r\n",
        "                self.reward=0\r\n",
        "                self.dice = (np.random.randint(1, 7),np.random.randint(1, 7),np.random.randint(1, 7))\r\n",
        "                self.state[0] = self.dice\r\n",
        "\r\n",
        "                #If stay also chosen, increase turn count, lock in and reset blackDots, reset BD count\r\n",
        "                if stay:\r\n",
        "                    for i in range(1,7):\r\n",
        "                        if env.state[i][2]>0:\r\n",
        "                            env.state[i][0]=env.state[i][2] \r\n",
        "                            env.state[i][2]=0\r\n",
        "                    self.turn+=1\r\n",
        "                    self.blackDots=2\r\n",
        "                    self.bust=False\r\n",
        "                    self.reward=(self.round-1)\r\n",
        "                    self.round=0\r\n",
        "                    \r\n",
        "                    countDone=0\r\n",
        "                    for i in range(1,7):\r\n",
        "                        if env.state[i][0]>=self.top[i]:\r\n",
        "                            countDone+=1\r\n",
        "                    if (countDone>=3):\r\n",
        "                        self.done = True\r\n",
        "                        self.reward = 1000#/self.turn #Arb Reward for completing Game\r\n",
        "                \r\n",
        "\r\n",
        "            return self.state, self.dice, self.blackDots, self.turn, self.reward, self.done\r\n",
        "        \r\n",
        "    def softreset(self):\r\n",
        "        self.turn+=1\r\n",
        "        self.blackDots=2\r\n",
        "        self.bust=False\r\n",
        "        self.round=0\r\n",
        "\r\n",
        "    def reset(self):\r\n",
        "        self.state = np.zeros((7,3))\r\n",
        "        self.top = [1000,6,6,6,6,6,6]\r\n",
        "        self.dice = (np.random.randint(1, 7),np.random.randint(1, 7),np.random.randint(1, 7))\r\n",
        "        self.state[0] = self.dice\r\n",
        "        self.blackDots = 2\r\n",
        "        self.turn = 0\r\n",
        "        self.round = 0\r\n",
        "        self.reward = 0\r\n",
        "        self.bust = False\r\n",
        "        self.done = False\r\n",
        "        return self.state, self.dice, self.blackDots, self.turn, self.reward, self.done"
      ],
      "execution_count": 1,
      "outputs": []
    },
    {
      "cell_type": "code",
      "metadata": {
        "colab": {
          "base_uri": "https://localhost:8080/"
        },
        "id": "3FHyUbNRsKM5",
        "outputId": "5e5990c6-d08c-40f6-8626-4491d4370651"
      },
      "source": [
        "env= DiceGame()\r\n",
        "env.state"
      ],
      "execution_count": 59,
      "outputs": [
        {
          "output_type": "execute_result",
          "data": {
            "text/plain": [
              "array([[6., 6., 3.],\n",
              "       [0., 0., 0.],\n",
              "       [0., 0., 0.],\n",
              "       [0., 0., 0.],\n",
              "       [0., 0., 0.],\n",
              "       [0., 0., 0.],\n",
              "       [0., 0., 0.]])"
            ]
          },
          "metadata": {
            "tags": []
          },
          "execution_count": 59
        }
      ]
    },
    {
      "cell_type": "code",
      "metadata": {
        "id": "yYM0SOHHnq58"
      },
      "source": [
        "from tensorflow.keras.models import Sequential\r\n",
        "from tensorflow.keras.layers import Dense, Flatten, InputLayer\r\n",
        "from tensorflow.keras.optimizers import Adam"
      ],
      "execution_count": 60,
      "outputs": []
    },
    {
      "cell_type": "code",
      "metadata": {
        "id": "AupxoTuLntMy"
      },
      "source": [
        "model = Sequential()\r\n",
        "model.add(Dense(256, activation='relu'))\r\n",
        "model.add(Dense(512, activation='relu'))\r\n",
        "model.add(Dense(256, activation='relu'))\r\n",
        "model.add(Dense(6, activation='softmax'))\r\n",
        "model.compile(loss='mse', optimizer='adam', metrics=['mae'])"
      ],
      "execution_count": 61,
      "outputs": []
    },
    {
      "cell_type": "code",
      "metadata": {
        "id": "4vA6476rikol"
      },
      "source": [
        "def  NNInput(envState):\r\n",
        "  return envState.reshape(1,21)"
      ],
      "execution_count": 9,
      "outputs": []
    },
    {
      "cell_type": "code",
      "metadata": {
        "colab": {
          "base_uri": "https://localhost:8080/"
        },
        "id": "fj6IunqvsuCH",
        "outputId": "919d8cc7-adf3-49aa-b880-aa52b3550578"
      },
      "source": [
        "env=DiceGame()\r\n",
        "model.predict(NNInput(env.state))"
      ],
      "execution_count": 63,
      "outputs": [
        {
          "output_type": "execute_result",
          "data": {
            "text/plain": [
              "array([[0.2550364 , 0.12296843, 0.20460694, 0.13324167, 0.17646262,\n",
              "        0.10768393]], dtype=float32)"
            ]
          },
          "metadata": {
            "tags": []
          },
          "execution_count": 63
        }
      ]
    },
    {
      "cell_type": "code",
      "metadata": {
        "id": "polCe5jGnyET",
        "colab": {
          "base_uri": "https://localhost:8080/"
        },
        "outputId": "7a23a17a-c88c-4e0c-f792-3dc8059b6b3f"
      },
      "source": [
        "model.summary()"
      ],
      "execution_count": 64,
      "outputs": [
        {
          "output_type": "stream",
          "text": [
            "Model: \"sequential_3\"\n",
            "_________________________________________________________________\n",
            "Layer (type)                 Output Shape              Param #   \n",
            "=================================================================\n",
            "dense_12 (Dense)             (None, 256)               5632      \n",
            "_________________________________________________________________\n",
            "dense_13 (Dense)             (None, 512)               131584    \n",
            "_________________________________________________________________\n",
            "dense_14 (Dense)             (None, 256)               131328    \n",
            "_________________________________________________________________\n",
            "dense_15 (Dense)             (None, 6)                 1542      \n",
            "=================================================================\n",
            "Total params: 270,086\n",
            "Trainable params: 270,086\n",
            "Non-trainable params: 0\n",
            "_________________________________________________________________\n"
          ],
          "name": "stdout"
        }
      ]
    },
    {
      "cell_type": "code",
      "metadata": {
        "id": "GfDwscv0iIRH",
        "colab": {
          "base_uri": "https://localhost:8080/"
        },
        "outputId": "cf3d4284-0ae6-436b-e05d-b791a50f4345"
      },
      "source": [
        "env.state, env.dice, env.state.shape"
      ],
      "execution_count": 65,
      "outputs": [
        {
          "output_type": "execute_result",
          "data": {
            "text/plain": [
              "(array([[4., 4., 5.],\n",
              "        [0., 0., 0.],\n",
              "        [0., 0., 0.],\n",
              "        [0., 0., 0.],\n",
              "        [0., 0., 0.],\n",
              "        [0., 0., 0.],\n",
              "        [0., 0., 0.]]), (4, 4, 5), (7, 3))"
            ]
          },
          "metadata": {
            "tags": []
          },
          "execution_count": 65
        }
      ]
    },
    {
      "cell_type": "code",
      "metadata": {
        "id": "nG2ALkKpoIMD"
      },
      "source": [
        ""
      ],
      "execution_count": 65,
      "outputs": []
    },
    {
      "cell_type": "code",
      "metadata": {
        "id": "QW93giSkoK8b"
      },
      "source": [
        ""
      ],
      "execution_count": 65,
      "outputs": []
    },
    {
      "cell_type": "code",
      "metadata": {
        "id": "qRaXIGIjnu2k"
      },
      "source": [
        ""
      ],
      "execution_count": 65,
      "outputs": []
    },
    {
      "cell_type": "code",
      "metadata": {
        "id": "0X83ANo6hyGO",
        "colab": {
          "base_uri": "https://localhost:8080/"
        },
        "outputId": "9a547e58-3081-49b0-f64e-c975b3a87ab7"
      },
      "source": [
        "env.reset()"
      ],
      "execution_count": 66,
      "outputs": [
        {
          "output_type": "execute_result",
          "data": {
            "text/plain": [
              "(array([[4., 3., 6.],\n",
              "        [0., 0., 0.],\n",
              "        [0., 0., 0.],\n",
              "        [0., 0., 0.],\n",
              "        [0., 0., 0.],\n",
              "        [0., 0., 0.],\n",
              "        [0., 0., 0.]]), (4, 3, 6), 2, 0, 0, False)"
            ]
          },
          "metadata": {
            "tags": []
          },
          "execution_count": 66
        }
      ]
    },
    {
      "cell_type": "code",
      "metadata": {
        "colab": {
          "base_uri": "https://localhost:8080/"
        },
        "id": "Oh34Ps1Xs67I",
        "outputId": "10ea89b2-4daf-4fa5-90fe-37bfffcc3178"
      },
      "source": [
        "env.state"
      ],
      "execution_count": 67,
      "outputs": [
        {
          "output_type": "execute_result",
          "data": {
            "text/plain": [
              "array([[4., 3., 6.],\n",
              "       [0., 0., 0.],\n",
              "       [0., 0., 0.],\n",
              "       [0., 0., 0.],\n",
              "       [0., 0., 0.],\n",
              "       [0., 0., 0.],\n",
              "       [0., 0., 0.]])"
            ]
          },
          "metadata": {
            "tags": []
          },
          "execution_count": 67
        }
      ]
    },
    {
      "cell_type": "code",
      "metadata": {
        "id": "9vtehgaVszAx"
      },
      "source": [
        ""
      ],
      "execution_count": 67,
      "outputs": []
    },
    {
      "cell_type": "code",
      "metadata": {
        "id": "tk7fIKtRXIN0"
      },
      "source": [
        "#model.predict(NNInput(s))"
      ],
      "execution_count": 68,
      "outputs": []
    },
    {
      "cell_type": "code",
      "metadata": {
        "id": "Zoh6t4FAdcbR"
      },
      "source": [
        "# env.reset()\r\n",
        "# s = env.state"
      ],
      "execution_count": 69,
      "outputs": []
    },
    {
      "cell_type": "code",
      "metadata": {
        "id": "dBj0TZd_hNGt"
      },
      "source": [
        "discountFactor = 0.95\r\n",
        "explore = 0.5\r\n",
        "decay = 0.5\r\n",
        "num_eps = 2000\r\n",
        "turn_list=[]\r\n",
        "env = DiceGame()\r\n",
        "for i in range(num_eps):\r\n",
        "  env.reset()\r\n",
        "  #explore *= decay\r\n",
        "  explore = 1 - i/num_eps\r\n",
        "  print(\"Episode {} of {}\".format(i+1, num_eps))\r\n",
        "  done= False\r\n",
        "  while not done:\r\n",
        "\r\n",
        "    s = env.state  \r\n",
        "\r\n",
        "    if np.random.random() < explore:\r\n",
        "      action = np.random.randint(0, 6)\r\n",
        "    else:\r\n",
        "      action = np.argmax(model.predict(NNInput(s)))    \r\n",
        "\r\n",
        "    newS,_,_,_,reward, done = env.step(action)\r\n",
        "    futureReward = reward + discountFactor * np.max(model.predict(NNInput(newS)))\r\n",
        "    target_vec= model.predict(NNInput(s))[0]\r\n",
        "    target_vec[action] = futureReward\r\n",
        "\r\n",
        "    model.fit(NNInput(s), target_vec.reshape(1,6), verbose=0)\r\n",
        "  turn_list.append(env.turn)\r\n"
      ],
      "execution_count": null,
      "outputs": []
    },
    {
      "cell_type": "code",
      "metadata": {
        "colab": {
          "base_uri": "https://localhost:8080/"
        },
        "id": "-jtvpog0tSr0",
        "outputId": "773c5c1c-6713-4336-99bd-18e53bf46994"
      },
      "source": [
        "a=np.random.rand(1,6)\r\n",
        "print(a)"
      ],
      "execution_count": 7,
      "outputs": [
        {
          "output_type": "stream",
          "text": [
            "[[0.76671315 0.18274665 0.62561513 0.36950157 0.91004216 0.91100529]]\n"
          ],
          "name": "stdout"
        }
      ]
    },
    {
      "cell_type": "code",
      "metadata": {
        "colab": {
          "base_uri": "https://localhost:8080/"
        },
        "id": "HUOIvz1ftg9n",
        "outputId": "e0121b72-35a8-4af2-dd75-d84c7c87b346"
      },
      "source": [
        "a.argmax()"
      ],
      "execution_count": 8,
      "outputs": [
        {
          "output_type": "execute_result",
          "data": {
            "text/plain": [
              "5"
            ]
          },
          "metadata": {
            "tags": []
          },
          "execution_count": 8
        }
      ]
    },
    {
      "cell_type": "code",
      "metadata": {
        "colab": {
          "base_uri": "https://localhost:8080/",
          "height": 172
        },
        "id": "eymu6M7HuqRL",
        "outputId": "4873de3a-b5a9-482f-ecea-559df8d27476"
      },
      "source": [
        "turn_list"
      ],
      "execution_count": 4,
      "outputs": [
        {
          "output_type": "error",
          "ename": "NameError",
          "evalue": "ignored",
          "traceback": [
            "\u001b[0;31m---------------------------------------------------------------------------\u001b[0m",
            "\u001b[0;31mNameError\u001b[0m                                 Traceback (most recent call last)",
            "\u001b[0;32m<ipython-input-4-de093e03e51d>\u001b[0m in \u001b[0;36m<module>\u001b[0;34m()\u001b[0m\n\u001b[0;32m----> 1\u001b[0;31m \u001b[0mturn_list\u001b[0m\u001b[0;34m\u001b[0m\u001b[0;34m\u001b[0m\u001b[0m\n\u001b[0m",
            "\u001b[0;31mNameError\u001b[0m: name 'turn_list' is not defined"
          ]
        }
      ]
    },
    {
      "cell_type": "code",
      "metadata": {
        "colab": {
          "base_uri": "https://localhost:8080/",
          "height": 283
        },
        "id": "WEu_9jGsBL4v",
        "outputId": "cd6230da-ef0e-4d08-a030-471ef6dc7eb2"
      },
      "source": [
        "import seaborn\r\n",
        "seaborn.lineplot(x=range(len(turn_list)), y=turn_list)"
      ],
      "execution_count": 72,
      "outputs": [
        {
          "output_type": "execute_result",
          "data": {
            "text/plain": [
              "<matplotlib.axes._subplots.AxesSubplot at 0x7f2384259690>"
            ]
          },
          "metadata": {
            "tags": []
          },
          "execution_count": 72
        },
        {
          "output_type": "display_data",
          "data": {
            "image/png": "[encoded data removed]",
            "text/plain": [
              "<Figure size 432x288 with 1 Axes>"
            ]
          },
          "metadata": {
            "tags": [],
            "needs_background": "light"
          }
        }
      ]
    },
    {
      "cell_type": "code",
      "metadata": {
        "id": "TckJiEtknCVD",
        "colab": {
          "base_uri": "https://localhost:8080/"
        },
        "outputId": "9834de89-31a5-48ac-c72b-37ca670d12b2"
      },
      "source": [
        "model.save('/content/drive/MyDrive/Colab Notebooks/model')\r\n"
      ],
      "execution_count": 73,
      "outputs": [
        {
          "output_type": "stream",
          "text": [
            "INFO:tensorflow:Assets written to: /content/drive/MyDrive/Colab Notebooks/model/assets\n"
          ],
          "name": "stdout"
        }
      ]
    },
    {
      "cell_type": "code",
      "metadata": {
        "id": "ROUWKnT7jhD9"
      },
      "source": [
        "from tensorflow import keras\r\n",
        "model2 = keras.models.load_model('/content/drive/MyDrive/Colab Notebooks/model')\r\n"
      ],
      "execution_count": 74,
      "outputs": []
    },
    {
      "cell_type": "code",
      "metadata": {
        "colab": {
          "base_uri": "https://localhost:8080/"
        },
        "id": "RykXD_nPb3wG",
        "outputId": "f92d97ab-5278-4ab0-eee4-03a646e1a33e"
      },
      "source": [
        "model.predict(NNInput(s))"
      ],
      "execution_count": 75,
      "outputs": [
        {
          "output_type": "execute_result",
          "data": {
            "text/plain": [
              "array([[1., 0., 0., 0., 0., 0.]], dtype=float32)"
            ]
          },
          "metadata": {
            "tags": []
          },
          "execution_count": 75
        }
      ]
    },
    {
      "cell_type": "code",
      "metadata": {
        "id": "jmljlSC2jsGm",
        "colab": {
          "base_uri": "https://localhost:8080/"
        },
        "outputId": "57cfa7db-7166-4da7-aa4c-5599f36db077"
      },
      "source": [
        "model2.predict(NNInput(s))"
      ],
      "execution_count": 76,
      "outputs": [
        {
          "output_type": "execute_result",
          "data": {
            "text/plain": [
              "array([[1., 0., 0., 0., 0., 0.]], dtype=float32)"
            ]
          },
          "metadata": {
            "tags": []
          },
          "execution_count": 76
        }
      ]
    }
  ]
}