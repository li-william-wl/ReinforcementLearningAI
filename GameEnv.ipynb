{
 "cells": [
  {
   "cell_type": "code",
   "execution_count": null,
   "metadata": {},
   "outputs": [],
   "source": []
  },
  {
   "cell_type": "code",
   "execution_count": 40,
   "metadata": {},
   "outputs": [],
   "source": [
    "import gym\n",
    "import numpy as np\n",
    "#from gym import spaces\n",
    "#from gym.utils import seeding\n",
    "\n",
    "\n",
    "class NChainEnv(gym.Env):\n",
    "\n",
    "    def __init__(self):\n",
    "        self.state = np.zeros((7,3))\n",
    "        self.top = [1000,6,6,6,6,6,6] #Arb top for Col 0, High so it doesn't Accidentally Trigger Col Done Count\n",
    "        self.dice = (np.random.randint(1, 7),np.random.randint(1, 7),np.random.randint(1, 7))\n",
    "        self.state[0] = self.dice\n",
    "        self.blackDots = 2\n",
    "        self.turn = 0 #Total Turns, or how many times opponent had a chance to counter attack\n",
    "        self.round = 0 #Rounds within a current turn, used to track reward\n",
    "        self.reward = 0\n",
    "        self.bust = False\n",
    "        self.done = False\n",
    "        \n",
    "    def step(self, action):\n",
    "        if self.done:\n",
    "            return self.state, self.dice, self.blackDots, self.turn, 0, self.done\n",
    "        else:\n",
    "            #assert self.action_space.contains(action)\n",
    "            assert action in [0,1,2,3,4,5]\n",
    "            # 0 is dice 1 and stay\n",
    "            # 1 is dice 1 and go\n",
    "            # 2 is dice 2 and stay\n",
    "            # 3 is dice 2 and go\n",
    "            # 4 is dice 3 and stay\n",
    "            # 5 is dice 3 and go\n",
    "            dicePick = self.dice[action//2] #Numerical Value of Dice Picked\n",
    "            stay = (action%2 == 0) #Stay or push value\n",
    "\n",
    "            #Code for checking if move is legal because top has been reached previously\n",
    "            #in either Black or Colors\n",
    "            if any (X >= self.top[dicePick] for X in env.state[dicePick]):\n",
    "                self.bust=True\n",
    "\n",
    "            #Code for checking if move is illegal due to out of black dots and attempting to place another\n",
    "            if env.state[dicePick][2]==0 and self.blackDots<=0:\n",
    "                self.bust=True\n",
    "\n",
    "            #Bust, Reset all Black Dots to 0 and increase Turn. Reset and set what is needed for next round\n",
    "            if self.bust:\n",
    "                for i in range(len(env.state)):\n",
    "                    env.state[i,2]=0\n",
    "                self.turn+=1\n",
    "                self.blackDots=2\n",
    "                self.bust=False\n",
    "                self.reward=(-1)*self.round\n",
    "                self.round=0\n",
    "                self.dice = (np.random.randint(1, 7),np.random.randint(1, 7),np.random.randint(1, 7))\n",
    "                self.state[0] = self.dice\n",
    "\n",
    "            #Increase picked value. Decrease BlackDot count if needed\n",
    "            else:\n",
    "                #If new blackdot Placement, initialize blackdot\n",
    "                if self.state[dicePick][2]==0:\n",
    "                    self.state[dicePick][2]=self.state[dicePick][0]\n",
    "                    self.blackDots-=1            \n",
    "                self.state[dicePick][2]+=1\n",
    "                self.round+=1\n",
    "                self.reward=0\n",
    "                self.dice = (np.random.randint(1, 7),np.random.randint(1, 7),np.random.randint(1, 7))\n",
    "                self.state[0] = self.dice\n",
    "\n",
    "                #If stay also chosen, increase turn count, lock in and reset blackDots, reset BD count\n",
    "                if stay:\n",
    "                    for i in range(1,7):\n",
    "                        if env.state[i][2]>0:\n",
    "                            env.state[i][0]=env.state[i][2] \n",
    "                            env.state[i][2]=0\n",
    "                    self.turn+=1\n",
    "                    self.blackDots=2\n",
    "                    self.bust=False\n",
    "                    self.reward=self.round\n",
    "                    self.round=0\n",
    "                    \n",
    "                    countDone=0\n",
    "                    for i in range(1,7):\n",
    "                        if env.state[i][0]>=self.top[i]:\n",
    "                            countDone+=1\n",
    "                    if (countDone>=3):\n",
    "                        self.done = True\n",
    "                        self.reward = 100/self.turn #Arb Reward for completing Game\n",
    "                \n",
    "\n",
    "            return self.state, self.dice, self.blackDots, self.turn, self.reward, self.done\n",
    "        \n",
    "    def softreset(self):\n",
    "        self.turn+=1\n",
    "        self.blackDots=2\n",
    "        self.bust=False\n",
    "        self.round=0\n",
    "\n",
    "    def reset(self):\n",
    "        self.state = np.zeros((7,3))\n",
    "        self.top = [1000,6,6,6,6,6,6]\n",
    "        self.dice = (np.random.randint(1, 7),np.random.randint(1, 7),np.random.randint(1, 7))\n",
    "        self.blackDots = 2\n",
    "        self.turn = 0\n",
    "        self.round = 0\n",
    "        self.reward = 0\n",
    "        self.bust = False\n",
    "        self.done = False\n",
    "        return self.state, self.dice, self.blackDots, self.turn, self.reward, self.done"
   ]
  },
  {
   "cell_type": "code",
   "execution_count": 41,
   "metadata": {},
   "outputs": [],
   "source": [
    "env=NChainEnv()"
   ]
  },
  {
   "cell_type": "code",
   "execution_count": 42,
   "metadata": {},
   "outputs": [
    {
     "data": {
      "text/plain": [
       "(array([[5., 6., 1.],\n",
       "        [0., 0., 0.],\n",
       "        [0., 0., 0.],\n",
       "        [0., 0., 0.],\n",
       "        [0., 0., 0.],\n",
       "        [0., 0., 0.],\n",
       "        [0., 0., 0.]]),\n",
       " (5, 6, 1),\n",
       " 2,\n",
       " 0)"
      ]
     },
     "execution_count": 42,
     "metadata": {},
     "output_type": "execute_result"
    }
   ],
   "source": [
    "env.state, env.dice, env.blackDots, env.turn"
   ]
  },
  {
   "cell_type": "code",
   "execution_count": null,
   "metadata": {},
   "outputs": [],
   "source": [
    "# 0 is dice 1 and stay\n",
    "# 1 is dice 1 and go\n",
    "# 2 is dice 2 and stay\n",
    "# 3 is dice 2 and go\n",
    "# 4 is dice 3 and stay\n",
    "# 5 is dice 3 and go"
   ]
  },
  {
   "cell_type": "code",
   "execution_count": 44,
   "metadata": {},
   "outputs": [
    {
     "ename": "AssertionError",
     "evalue": "",
     "output_type": "error",
     "traceback": [
      "\u001b[1;31m---------------------------------------------------------------------------\u001b[0m",
      "\u001b[1;31mAssertionError\u001b[0m                            Traceback (most recent call last)",
      "\u001b[1;32m<ipython-input-44-354ff1b226aa>\u001b[0m in \u001b[0;36m<module>\u001b[1;34m\u001b[0m\n\u001b[1;32m----> 1\u001b[1;33m \u001b[0menv\u001b[0m\u001b[1;33m.\u001b[0m\u001b[0mstep\u001b[0m\u001b[1;33m(\u001b[0m\u001b[1;36m9\u001b[0m\u001b[1;33m)\u001b[0m\u001b[1;33m\u001b[0m\u001b[1;33m\u001b[0m\u001b[0m\n\u001b[0m",
      "\u001b[1;32m<ipython-input-40-a4dc76e05180>\u001b[0m in \u001b[0;36mstep\u001b[1;34m(self, action)\u001b[0m\n\u001b[0;32m     24\u001b[0m         \u001b[1;32melse\u001b[0m\u001b[1;33m:\u001b[0m\u001b[1;33m\u001b[0m\u001b[1;33m\u001b[0m\u001b[0m\n\u001b[0;32m     25\u001b[0m             \u001b[1;31m#assert self.action_space.contains(action)\u001b[0m\u001b[1;33m\u001b[0m\u001b[1;33m\u001b[0m\u001b[1;33m\u001b[0m\u001b[0m\n\u001b[1;32m---> 26\u001b[1;33m             \u001b[1;32massert\u001b[0m \u001b[0maction\u001b[0m \u001b[1;32min\u001b[0m \u001b[1;33m[\u001b[0m\u001b[1;36m0\u001b[0m\u001b[1;33m,\u001b[0m\u001b[1;36m1\u001b[0m\u001b[1;33m,\u001b[0m\u001b[1;36m2\u001b[0m\u001b[1;33m,\u001b[0m\u001b[1;36m3\u001b[0m\u001b[1;33m,\u001b[0m\u001b[1;36m4\u001b[0m\u001b[1;33m,\u001b[0m\u001b[1;36m5\u001b[0m\u001b[1;33m]\u001b[0m\u001b[1;33m\u001b[0m\u001b[1;33m\u001b[0m\u001b[0m\n\u001b[0m\u001b[0;32m     27\u001b[0m \u001b[1;33m\u001b[0m\u001b[0m\n\u001b[0;32m     28\u001b[0m             \u001b[1;31m# 0 is dice 1 and stay\u001b[0m\u001b[1;33m\u001b[0m\u001b[1;33m\u001b[0m\u001b[1;33m\u001b[0m\u001b[0m\n",
      "\u001b[1;31mAssertionError\u001b[0m: "
     ]
    }
   ],
   "source": [
    "env.step(9)"
   ]
  },
  {
   "cell_type": "code",
   "execution_count": 15,
   "metadata": {},
   "outputs": [
    {
     "data": {
      "text/plain": [
       "range(1, 7)"
      ]
     },
     "execution_count": 15,
     "metadata": {},
     "output_type": "execute_result"
    }
   ],
   "source": []
  },
  {
   "cell_type": "code",
   "execution_count": 39,
   "metadata": {},
   "outputs": [
    {
     "name": "stdout",
     "output_type": "stream",
     "text": [
      "28 [[6. 6. 6.]\n",
      " [5. 0. 0.]\n",
      " [5. 0. 0.]\n",
      " [6. 0. 0.]\n",
      " [6. 0. 0.]\n",
      " [1. 0. 0.]\n",
      " [6. 0. 0.]]\n"
     ]
    }
   ],
   "source": [
    "env=NChainEnv()\n",
    "done=False\n",
    "steps=0\n",
    "while (not done) and steps<5000:\n",
    "    _,_,_,_,_,done= env.step(np.random.randint(0, 6))\n",
    "    steps+=1\n",
    "    \n",
    "print(env.turn, env.state)"
   ]
  },
  {
   "cell_type": "code",
   "execution_count": 211,
   "metadata": {},
   "outputs": [
    {
     "data": {
      "text/plain": [
       "(array([[0., 0., 0.],\n",
       "        [4., 0., 0.],\n",
       "        [6., 0., 0.],\n",
       "        [1., 0., 0.],\n",
       "        [1., 0., 0.],\n",
       "        [6., 0., 0.],\n",
       "        [3., 0., 0.]]),\n",
       " (2, 2, 2),\n",
       " 2,\n",
       " 5000,\n",
       " 0,\n",
       " False)"
      ]
     },
     "execution_count": 211,
     "metadata": {},
     "output_type": "execute_result"
    }
   ],
   "source": [
    "env.step(1)"
   ]
  },
  {
   "cell_type": "code",
   "execution_count": 171,
   "metadata": {},
   "outputs": [
    {
     "data": {
      "text/plain": [
       "(array([[0., 0., 0.],\n",
       "        [6., 0., 0.],\n",
       "        [5., 0., 0.],\n",
       "        [6., 0., 0.],\n",
       "        [1., 0., 0.],\n",
       "        [5., 0., 0.],\n",
       "        [6., 0., 0.]]),\n",
       " True)"
      ]
     },
     "execution_count": 171,
     "metadata": {},
     "output_type": "execute_result"
    }
   ],
   "source": [
    "env.state, env.done"
   ]
  },
  {
   "cell_type": "code",
   "execution_count": 56,
   "metadata": {},
   "outputs": [
    {
     "data": {
      "text/plain": [
       "array([[0., 0., 0.],\n",
       "       [0., 0., 0.],\n",
       "       [0., 0., 0.],\n",
       "       [0., 0., 0.],\n",
       "       [1., 0., 0.],\n",
       "       [1., 0., 0.],\n",
       "       [0., 0., 0.]])"
      ]
     },
     "execution_count": 56,
     "metadata": {},
     "output_type": "execute_result"
    }
   ],
   "source": [
    "]"
   ]
  },
  {
   "cell_type": "code",
   "execution_count": 37,
   "metadata": {},
   "outputs": [
    {
     "data": {
      "text/plain": [
       "array([0., 3., 0., 0., 1., 0., 0.])"
      ]
     },
     "execution_count": 37,
     "metadata": {},
     "output_type": "execute_result"
    }
   ],
   "source": [
    "env.state[:,2]"
   ]
  },
  {
   "cell_type": "code",
   "execution_count": null,
   "metadata": {},
   "outputs": [],
   "source": []
  }
 ],
 "metadata": {
  "kernelspec": {
   "display_name": "Python 3",
   "language": "python",
   "name": "python3"
  },
  "language_info": {
   "codemirror_mode": {
    "name": "ipython",
    "version": 3
   },
   "file_extension": ".py",
   "mimetype": "text/x-python",
   "name": "python",
   "nbconvert_exporter": "python",
   "pygments_lexer": "ipython3",
   "version": "3.8.5"
  }
 },
 "nbformat": 4,
 "nbformat_minor": 4
}
